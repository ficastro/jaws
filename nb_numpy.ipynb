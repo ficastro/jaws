{
  "nbformat": 4,
  "nbformat_minor": 0,
  "metadata": {
    "colab": {
      "provenance": []
    },
    "kernelspec": {
      "name": "python3",
      "display_name": "Python 3"
    },
    "language_info": {
      "name": "python"
    }
  },
  "cells": [
    {
      "cell_type": "markdown",
      "source": [
        "## IMD1151 - Notebook 02 - NumPy\n",
        "\n",
        "Notebook sobre a biblioteca **NumPy em Python** para a turma T01 da disciplina IMD1151 - Ciências de Dados do IMD/UFRN.\n",
        "\n",
        "Este notebook faz parte das aulas de Fundamentos de Python.\n",
        "\n",
        "**NumPy:**\n",
        "\n",
        "*   Biblioteca/pacote em Python para operações matemáticas com matrizes.\n",
        "*   Operações com matrizes multidimensionais\n",
        "*   Criada para computação científica\n"
      ],
      "metadata": {
        "id": "8xhfV8-8Vfz2"
      }
    },
    {
      "cell_type": "markdown",
      "source": [
        "### Criação de listas em Python (sem NumPy)"
      ],
      "metadata": {
        "id": "_rZxHhMTV4mV"
      }
    },
    {
      "cell_type": "code",
      "source": [
        "# lista com 100 elementos\n",
        "list1 = []\n",
        "for i in range(100):\n",
        "    list1.append(i)\n",
        "print(list1)"
      ],
      "metadata": {
        "id": "p0HIcdnCllU9",
        "colab": {
          "base_uri": "https://localhost:8080/"
        },
        "outputId": "6ba59ed5-ad7b-4ad2-8917-888cefcca9cc"
      },
      "execution_count": null,
      "outputs": [
        {
          "output_type": "stream",
          "name": "stdout",
          "text": [
            "[0, 1, 2, 3, 4, 5, 6, 7, 8, 9, 10, 11, 12, 13, 14, 15, 16, 17, 18, 19, 20, 21, 22, 23, 24, 25, 26, 27, 28, 29, 30, 31, 32, 33, 34, 35, 36, 37, 38, 39, 40, 41, 42, 43, 44, 45, 46, 47, 48, 49, 50, 51, 52, 53, 54, 55, 56, 57, 58, 59, 60, 61, 62, 63, 64, 65, 66, 67, 68, 69, 70, 71, 72, 73, 74, 75, 76, 77, 78, 79, 80, 81, 82, 83, 84, 85, 86, 87, 88, 89, 90, 91, 92, 93, 94, 95, 96, 97, 98, 99]\n"
          ]
        }
      ]
    },
    {
      "cell_type": "code",
      "source": [
        "list1"
      ],
      "metadata": {
        "id": "8mS8Rpg7ZXjx",
        "colab": {
          "base_uri": "https://localhost:8080/"
        },
        "outputId": "84f0e920-f0b9-4f86-ada8-efb4c7bdb994"
      },
      "execution_count": null,
      "outputs": [
        {
          "output_type": "execute_result",
          "data": {
            "text/plain": [
              "[0,\n",
              " 1,\n",
              " 2,\n",
              " 3,\n",
              " 4,\n",
              " 5,\n",
              " 6,\n",
              " 7,\n",
              " 8,\n",
              " 9,\n",
              " 10,\n",
              " 11,\n",
              " 12,\n",
              " 13,\n",
              " 14,\n",
              " 15,\n",
              " 16,\n",
              " 17,\n",
              " 18,\n",
              " 19,\n",
              " 20,\n",
              " 21,\n",
              " 22,\n",
              " 23,\n",
              " 24,\n",
              " 25,\n",
              " 26,\n",
              " 27,\n",
              " 28,\n",
              " 29,\n",
              " 30,\n",
              " 31,\n",
              " 32,\n",
              " 33,\n",
              " 34,\n",
              " 35,\n",
              " 36,\n",
              " 37,\n",
              " 38,\n",
              " 39,\n",
              " 40,\n",
              " 41,\n",
              " 42,\n",
              " 43,\n",
              " 44,\n",
              " 45,\n",
              " 46,\n",
              " 47,\n",
              " 48,\n",
              " 49,\n",
              " 50,\n",
              " 51,\n",
              " 52,\n",
              " 53,\n",
              " 54,\n",
              " 55,\n",
              " 56,\n",
              " 57,\n",
              " 58,\n",
              " 59,\n",
              " 60,\n",
              " 61,\n",
              " 62,\n",
              " 63,\n",
              " 64,\n",
              " 65,\n",
              " 66,\n",
              " 67,\n",
              " 68,\n",
              " 69,\n",
              " 70,\n",
              " 71,\n",
              " 72,\n",
              " 73,\n",
              " 74,\n",
              " 75,\n",
              " 76,\n",
              " 77,\n",
              " 78,\n",
              " 79,\n",
              " 80,\n",
              " 81,\n",
              " 82,\n",
              " 83,\n",
              " 84,\n",
              " 85,\n",
              " 86,\n",
              " 87,\n",
              " 88,\n",
              " 89,\n",
              " 90,\n",
              " 91,\n",
              " 92,\n",
              " 93,\n",
              " 94,\n",
              " 95,\n",
              " 96,\n",
              " 97,\n",
              " 98,\n",
              " 99]"
            ]
          },
          "metadata": {},
          "execution_count": 45
        }
      ]
    },
    {
      "cell_type": "markdown",
      "source": [
        "**Exemplo 01**: código para dobrar os elementos da lista \"list1\":"
      ],
      "metadata": {
        "id": "2G_mbACH-A9m"
      }
    },
    {
      "cell_type": "code",
      "source": [
        "# Solução 01:\n",
        "list2 = []\n",
        "for id in range(len(list1)):\n",
        "    list2.append(list1[id] * 2)\n",
        "\n",
        "print(list2)"
      ],
      "metadata": {
        "id": "1kssB-d_-At-",
        "colab": {
          "base_uri": "https://localhost:8080/"
        },
        "outputId": "f6454d89-10fd-4c82-9c37-605142176a2a"
      },
      "execution_count": null,
      "outputs": [
        {
          "output_type": "stream",
          "name": "stdout",
          "text": [
            "[0, 2, 4, 6, 8, 10, 12, 14, 16, 18, 20, 22, 24, 26, 28, 30, 32, 34, 36, 38, 40, 42, 44, 46, 48, 50, 52, 54, 56, 58, 60, 62, 64, 66, 68, 70, 72, 74, 76, 78, 80, 82, 84, 86, 88, 90, 92, 94, 96, 98, 100, 102, 104, 106, 108, 110, 112, 114, 116, 118, 120, 122, 124, 126, 128, 130, 132, 134, 136, 138, 140, 142, 144, 146, 148, 150, 152, 154, 156, 158, 160, 162, 164, 166, 168, 170, 172, 174, 176, 178, 180, 182, 184, 186, 188, 190, 192, 194, 196, 198]\n"
          ]
        }
      ]
    },
    {
      "cell_type": "code",
      "source": [
        "# Solução 02:\n",
        "list2 = [item*2 for item in list1]\n",
        "print(list2)"
      ],
      "metadata": {
        "id": "3ucn2HCEAGa-",
        "colab": {
          "base_uri": "https://localhost:8080/"
        },
        "outputId": "14a0d5a2-c6ba-4733-cd4c-b9b382fda332"
      },
      "execution_count": null,
      "outputs": [
        {
          "output_type": "stream",
          "name": "stdout",
          "text": [
            "[0, 2, 4, 6, 8, 10, 12, 14, 16, 18, 20, 22, 24, 26, 28, 30, 32, 34, 36, 38, 40, 42, 44, 46, 48, 50, 52, 54, 56, 58, 60, 62, 64, 66, 68, 70, 72, 74, 76, 78, 80, 82, 84, 86, 88, 90, 92, 94, 96, 98, 100, 102, 104, 106, 108, 110, 112, 114, 116, 118, 120, 122, 124, 126, 128, 130, 132, 134, 136, 138, 140, 142, 144, 146, 148, 150, 152, 154, 156, 158, 160, 162, 164, 166, 168, 170, 172, 174, 176, 178, 180, 182, 184, 186, 188, 190, 192, 194, 196, 198]\n"
          ]
        }
      ]
    },
    {
      "cell_type": "markdown",
      "source": [
        "### Criação de **arrays** com NumPy:\n",
        "\n",
        "Você deve importar o numpy usando o comando **import**.\n",
        "\n",
        "É usual na comunidade usar o termo **np** para numpy:"
      ],
      "metadata": {
        "id": "P98rkyu1YNXt"
      }
    },
    {
      "cell_type": "code",
      "source": [
        "import numpy as np"
      ],
      "metadata": {
        "id": "f4qYiw_t7_A_"
      },
      "execution_count": null,
      "outputs": []
    },
    {
      "cell_type": "code",
      "source": [
        "a = np.array([1, 2, 3, 4, 5])\n",
        "a"
      ],
      "metadata": {
        "id": "MzpC5_qRYnAG",
        "colab": {
          "base_uri": "https://localhost:8080/"
        },
        "outputId": "a0f3dd6e-3ff9-47e6-e58a-b1187c8ce794"
      },
      "execution_count": null,
      "outputs": [
        {
          "output_type": "execute_result",
          "data": {
            "text/plain": [
              "array([1, 2, 3, 4, 5])"
            ]
          },
          "metadata": {},
          "execution_count": 3
        }
      ]
    },
    {
      "cell_type": "code",
      "source": [
        "b = np.array([[1,2,3],[4,5,6]])\n",
        "b"
      ],
      "metadata": {
        "id": "bwNBvEW0dFsl",
        "colab": {
          "base_uri": "https://localhost:8080/"
        },
        "outputId": "263fe8c6-dc3f-4341-f05c-ce78a3cad06c"
      },
      "execution_count": null,
      "outputs": [
        {
          "output_type": "execute_result",
          "data": {
            "text/plain": [
              "array([[1, 2, 3],\n",
              "       [4, 5, 6]])"
            ]
          },
          "metadata": {},
          "execution_count": 4
        }
      ]
    },
    {
      "cell_type": "code",
      "source": [
        "# Tamanho dos arrays:\n",
        "print(a.shape)\n",
        "print(b.shape)"
      ],
      "metadata": {
        "colab": {
          "base_uri": "https://localhost:8080/"
        },
        "id": "BOFX7RGTakOz",
        "outputId": "515a167d-4c1c-4652-91b5-7cacb698b1a2"
      },
      "execution_count": null,
      "outputs": [
        {
          "output_type": "stream",
          "name": "stdout",
          "text": [
            "(5,)\n",
            "(2, 3)\n"
          ]
        }
      ]
    },
    {
      "cell_type": "code",
      "source": [
        "# array com 100 elementos\n",
        "array1 = np.arange(100)\n",
        "array1"
      ],
      "metadata": {
        "id": "wcr-4qvd8LAZ",
        "colab": {
          "base_uri": "https://localhost:8080/"
        },
        "outputId": "42cab4a7-9c89-48d5-8343-d7d022e33209"
      },
      "execution_count": null,
      "outputs": [
        {
          "output_type": "execute_result",
          "data": {
            "text/plain": [
              "array([ 0,  1,  2,  3,  4,  5,  6,  7,  8,  9, 10, 11, 12, 13, 14, 15, 16,\n",
              "       17, 18, 19, 20, 21, 22, 23, 24, 25, 26, 27, 28, 29, 30, 31, 32, 33,\n",
              "       34, 35, 36, 37, 38, 39, 40, 41, 42, 43, 44, 45, 46, 47, 48, 49, 50,\n",
              "       51, 52, 53, 54, 55, 56, 57, 58, 59, 60, 61, 62, 63, 64, 65, 66, 67,\n",
              "       68, 69, 70, 71, 72, 73, 74, 75, 76, 77, 78, 79, 80, 81, 82, 83, 84,\n",
              "       85, 86, 87, 88, 89, 90, 91, 92, 93, 94, 95, 96, 97, 98, 99])"
            ]
          },
          "metadata": {},
          "execution_count": 6
        }
      ]
    },
    {
      "cell_type": "code",
      "source": [
        "print(array1.shape)"
      ],
      "metadata": {
        "colab": {
          "base_uri": "https://localhost:8080/"
        },
        "id": "SBW3HR2ifM3l",
        "outputId": "6f23cf12-1df6-442e-ec6b-1ef268c99a2d"
      },
      "execution_count": null,
      "outputs": [
        {
          "output_type": "stream",
          "name": "stdout",
          "text": [
            "(100,)\n"
          ]
        }
      ]
    },
    {
      "cell_type": "markdown",
      "source": [
        "### Operações matemáticas (vetorizadas) com **NumPy**:\n",
        "\n",
        "NumPy permite realizar operações vetorizadas, que aplicam uma operação a cada elemento do array de forma eficiente sem precisar usar estruturas de repetição (for).\n",
        "\n",
        "**Exemplo 02**: código para dobrar os elementos do array \"array1\":"
      ],
      "metadata": {
        "id": "Bv1JyScs89Lc"
      }
    },
    {
      "cell_type": "code",
      "source": [
        "array2 = array1 * 2\n",
        "print(array2)"
      ],
      "metadata": {
        "id": "YSxwYhrL8ctm",
        "colab": {
          "base_uri": "https://localhost:8080/"
        },
        "outputId": "60331280-d37d-46fc-f533-b57201ea14f6"
      },
      "execution_count": null,
      "outputs": [
        {
          "output_type": "stream",
          "name": "stdout",
          "text": [
            "[  0   2   4   6   8  10  12  14  16  18  20  22  24  26  28  30  32  34\n",
            "  36  38  40  42  44  46  48  50  52  54  56  58  60  62  64  66  68  70\n",
            "  72  74  76  78  80  82  84  86  88  90  92  94  96  98 100 102 104 106\n",
            " 108 110 112 114 116 118 120 122 124 126 128 130 132 134 136 138 140 142\n",
            " 144 146 148 150 152 154 156 158 160 162 164 166 168 170 172 174 176 178\n",
            " 180 182 184 186 188 190 192 194 196 198]\n"
          ]
        }
      ]
    },
    {
      "cell_type": "markdown",
      "source": [
        "Objetos:\n",
        "*   **list1** é uma lista em Python.\n",
        "*   **array1** é um array do NumPy (Python).\n",
        "\n",
        "Usando o comando **%timeit** para calcular o tempo de execução para realizar operações matemáticas com todos os elementos da lista/array:"
      ],
      "metadata": {
        "id": "TcPvDiVRmRWf"
      }
    },
    {
      "cell_type": "code",
      "source": [
        "%%timeit\n",
        "\n",
        "list2 = []\n",
        "list1 = [1,2,3,4]\n",
        "for i in range(len(list1)):\n",
        "    list2.append(list1[i] * 2)"
      ],
      "metadata": {
        "colab": {
          "base_uri": "https://localhost:8080/"
        },
        "id": "I7adFzYrf_cg",
        "outputId": "42821131-c133-4f98-e088-384bd032db13"
      },
      "execution_count": null,
      "outputs": [
        {
          "output_type": "stream",
          "name": "stdout",
          "text": [
            "684 ns ± 7.18 ns per loop (mean ± std. dev. of 7 runs, 1000000 loops each)\n"
          ]
        }
      ]
    },
    {
      "cell_type": "code",
      "source": [
        "%timeit [item*2 for item in list1]"
      ],
      "metadata": {
        "id": "J-K59IbsZrId",
        "colab": {
          "base_uri": "https://localhost:8080/"
        },
        "outputId": "da1bed45-a2ac-4cf6-8312-1a3ceba8e8c7"
      },
      "execution_count": null,
      "outputs": [
        {
          "output_type": "stream",
          "name": "stdout",
          "text": [
            "408 ns ± 10.4 ns per loop (mean ± std. dev. of 7 runs, 1000000 loops each)\n"
          ]
        }
      ]
    },
    {
      "cell_type": "code",
      "source": [
        "%timeit array2 = array1 * 2"
      ],
      "metadata": {
        "id": "ga3lynKG9PRp",
        "colab": {
          "base_uri": "https://localhost:8080/"
        },
        "outputId": "6961fa56-7f37-4e2e-c880-ecf6bf2b8d37"
      },
      "execution_count": null,
      "outputs": [
        {
          "output_type": "stream",
          "name": "stdout",
          "text": [
            "1.68 µs ± 393 ns per loop (mean ± std. dev. of 7 runs, 1000000 loops each)\n"
          ]
        }
      ]
    },
    {
      "cell_type": "markdown",
      "source": [
        "Se a diferença não parece tanto, tente fazer com lista maiores..."
      ],
      "metadata": {
        "id": "Hi0qIPObhLlm"
      }
    },
    {
      "cell_type": "code",
      "source": [
        "larger_list = []\n",
        "for i in range(100_000_000):\n",
        "    larger_list.append(i)\n",
        "\n",
        "larger_array = np.arange(100_000_000)"
      ],
      "metadata": {
        "id": "ZwSoKwKuhQVY"
      },
      "execution_count": null,
      "outputs": []
    },
    {
      "cell_type": "code",
      "source": [
        "%%timeit\n",
        "\n",
        "larger_list2 = []\n",
        "for i in range(len(larger_list)):\n",
        "    larger_list2.append(larger_list[i] * 2)"
      ],
      "metadata": {
        "colab": {
          "base_uri": "https://localhost:8080/"
        },
        "id": "G-Oh2x8Yhs6V",
        "outputId": "908f371e-3b80-4d0c-fce2-84361b973e77"
      },
      "execution_count": null,
      "outputs": [
        {
          "output_type": "stream",
          "name": "stdout",
          "text": [
            "16.6 s ± 499 ms per loop (mean ± std. dev. of 7 runs, 1 loop each)\n"
          ]
        }
      ]
    },
    {
      "cell_type": "code",
      "source": [
        "%timeit larger_list2 = [item*2 for item in larger_list]"
      ],
      "metadata": {
        "colab": {
          "base_uri": "https://localhost:8080/"
        },
        "id": "LrjKzyeIiEf1",
        "outputId": "d98fee06-0f3d-46e8-e619-e75d167969f4"
      },
      "execution_count": null,
      "outputs": [
        {
          "output_type": "stream",
          "name": "stdout",
          "text": [
            "8.86 s ± 839 ms per loop (mean ± std. dev. of 7 runs, 1 loop each)\n"
          ]
        }
      ]
    },
    {
      "cell_type": "code",
      "source": [
        "%timeit larger_array2 = larger_array * 2"
      ],
      "metadata": {
        "colab": {
          "base_uri": "https://localhost:8080/"
        },
        "id": "8EuSpM0_iKw8",
        "outputId": "5e892663-457c-4737-d44d-af39d76be264"
      },
      "execution_count": null,
      "outputs": [
        {
          "output_type": "stream",
          "name": "stdout",
          "text": [
            "469 ms ± 5.6 ms per loop (mean ± std. dev. of 7 runs, 1 loop each)\n"
          ]
        }
      ]
    },
    {
      "cell_type": "markdown",
      "source": [
        "Outras operações:"
      ],
      "metadata": {
        "id": "--z4dVYUarel"
      }
    },
    {
      "cell_type": "code",
      "source": [
        "print(array2 + array1)"
      ],
      "metadata": {
        "id": "SRFxjPjMbEh-",
        "colab": {
          "base_uri": "https://localhost:8080/"
        },
        "outputId": "adab44d8-58da-48b1-ce00-6e757fc40c26"
      },
      "execution_count": null,
      "outputs": [
        {
          "output_type": "stream",
          "name": "stdout",
          "text": [
            "[  0   3   6   9  12  15  18  21  24  27  30  33  36  39  42  45  48  51\n",
            "  54  57  60  63  66  69  72  75  78  81  84  87  90  93  96  99 102 105\n",
            " 108 111 114 117 120 123 126 129 132 135 138 141 144 147 150 153 156 159\n",
            " 162 165 168 171 174 177 180 183 186 189 192 195 198 201 204 207 210 213\n",
            " 216 219 222 225 228 231 234 237 240 243 246 249 252 255 258 261 264 267\n",
            " 270 273 276 279 282 285 288 291 294 297]\n"
          ]
        }
      ]
    },
    {
      "cell_type": "code",
      "source": [
        "print(array1 * 2)"
      ],
      "metadata": {
        "id": "YpzAcDzoaq4e",
        "colab": {
          "base_uri": "https://localhost:8080/"
        },
        "outputId": "50b91417-77c0-4bf2-a805-9ae0c997a749"
      },
      "execution_count": null,
      "outputs": [
        {
          "output_type": "stream",
          "name": "stdout",
          "text": [
            "[  0   2   4   6   8  10  12  14  16  18  20  22  24  26  28  30  32  34\n",
            "  36  38  40  42  44  46  48  50  52  54  56  58  60  62  64  66  68  70\n",
            "  72  74  76  78  80  82  84  86  88  90  92  94  96  98 100 102 104 106\n",
            " 108 110 112 114 116 118 120 122 124 126 128 130 132 134 136 138 140 142\n",
            " 144 146 148 150 152 154 156 158 160 162 164 166 168 170 172 174 176 178\n",
            " 180 182 184 186 188 190 192 194 196 198]\n"
          ]
        }
      ]
    },
    {
      "cell_type": "markdown",
      "source": [
        "Operações estatísticas:"
      ],
      "metadata": {
        "id": "EUu9kXV5bLsd"
      }
    },
    {
      "cell_type": "code",
      "source": [
        "# Média:\n",
        "print(np.mean(array1))\n",
        "# Mediana:\n",
        "print(np.median(array1))\n",
        "# Variância:\n",
        "print(np.var(array1))"
      ],
      "metadata": {
        "id": "JulHyUbH9lD2",
        "colab": {
          "base_uri": "https://localhost:8080/"
        },
        "outputId": "99e545d5-63da-4e79-8665-e4c48332f5b6"
      },
      "execution_count": null,
      "outputs": [
        {
          "output_type": "stream",
          "name": "stdout",
          "text": [
            "49.5\n",
            "49.5\n",
            "833.25\n"
          ]
        }
      ]
    },
    {
      "cell_type": "markdown",
      "source": [
        "### Fatiamento (slice) de matrizes com **NumPy**:"
      ],
      "metadata": {
        "id": "OVxPMrgud9b2"
      }
    },
    {
      "cell_type": "code",
      "source": [
        "a = np.arange(10)\n",
        "print(a)\n",
        "print(a[0], a[2], a[-1])"
      ],
      "metadata": {
        "id": "T6Fboh2zpJ3h",
        "colab": {
          "base_uri": "https://localhost:8080/"
        },
        "outputId": "1ec06ec9-795a-42fb-88e2-12006343151f"
      },
      "execution_count": null,
      "outputs": [
        {
          "output_type": "stream",
          "name": "stdout",
          "text": [
            "[0 1 2 3 4 5 6 7 8 9]\n",
            "0 2 9\n"
          ]
        }
      ]
    },
    {
      "cell_type": "code",
      "source": [
        "a = np.arange(10)\n",
        "print(a)\n",
        "\n",
        "# Acessar elemento: a[start:end:step]\n",
        "print(a[2:9:3])"
      ],
      "metadata": {
        "id": "wpBeEdIineXk",
        "colab": {
          "base_uri": "https://localhost:8080/"
        },
        "outputId": "7e383490-64af-4770-ebf3-582a94f5c007"
      },
      "execution_count": null,
      "outputs": [
        {
          "output_type": "stream",
          "name": "stdout",
          "text": [
            "[0 1 2 3 4 5 6 7 8 9]\n",
            "[2 5 8]\n"
          ]
        }
      ]
    },
    {
      "cell_type": "markdown",
      "source": [
        "![numpy_indexing.png](data:image/png;base64,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)"
      ],
      "metadata": {
        "id": "L4G8L12tedoX"
      }
    },
    {
      "cell_type": "markdown",
      "source": [
        "### Cópia de objetos (arrays) em **NumPy**:\n",
        "\n",
        "A criação de uma nova matriz/lista a partir de outro objeto não é uma cópia na memória."
      ],
      "metadata": {
        "id": "ncuhdA_Gejcm"
      }
    },
    {
      "cell_type": "code",
      "source": [
        "a = np.arange(10)\n",
        "print(a)\n",
        "b = a[::2]\n",
        "print(b)"
      ],
      "metadata": {
        "id": "cyDR-VOHRdTU",
        "colab": {
          "base_uri": "https://localhost:8080/"
        },
        "outputId": "b7b0c0df-6f6d-471f-db01-cdfe30cae390"
      },
      "execution_count": null,
      "outputs": [
        {
          "output_type": "stream",
          "name": "stdout",
          "text": [
            "[0 1 2 3 4 5 6 7 8 9]\n",
            "[0 2 4 6 8]\n"
          ]
        }
      ]
    },
    {
      "cell_type": "code",
      "source": [
        "print(b)\n",
        "b[0] = 10\n",
        "print(b)\n",
        "print(a)"
      ],
      "metadata": {
        "id": "G-qhOfAjRtsL",
        "colab": {
          "base_uri": "https://localhost:8080/"
        },
        "outputId": "1e237af0-966b-445c-b904-b228b8dacb85"
      },
      "execution_count": null,
      "outputs": [
        {
          "output_type": "stream",
          "name": "stdout",
          "text": [
            "[0 2 4 6 8]\n",
            "[10  2  4  6  8]\n",
            "[10  1  2  3  4  5  6  7  8  9]\n"
          ]
        }
      ]
    },
    {
      "cell_type": "markdown",
      "source": [
        "Você deve usar a função **.copy()** para realizar uma cópia do objeto."
      ],
      "metadata": {
        "id": "iqm0SUpAR5hf"
      }
    },
    {
      "cell_type": "code",
      "source": [
        "a = np.arange(10)\n",
        "c = a[::2].copy()\n",
        "print(a)\n",
        "print(c)"
      ],
      "metadata": {
        "id": "RHTalZLwR2Bo",
        "colab": {
          "base_uri": "https://localhost:8080/"
        },
        "outputId": "f1c52768-b376-4a7d-bd78-243e4b49a061"
      },
      "execution_count": null,
      "outputs": [
        {
          "output_type": "stream",
          "name": "stdout",
          "text": [
            "[0 1 2 3 4 5 6 7 8 9]\n",
            "[0 2 4 6 8]\n"
          ]
        }
      ]
    },
    {
      "cell_type": "code",
      "source": [
        "c[0] = 10\n",
        "print(c)\n",
        "print(a)"
      ],
      "metadata": {
        "id": "leja6eXkSHls",
        "colab": {
          "base_uri": "https://localhost:8080/"
        },
        "outputId": "13eb1cae-6ab7-46df-b90f-fe001e8bc352"
      },
      "execution_count": null,
      "outputs": [
        {
          "output_type": "stream",
          "name": "stdout",
          "text": [
            "[10  2  4  6  8]\n",
            "[0 1 2 3 4 5 6 7 8 9]\n"
          ]
        }
      ]
    },
    {
      "cell_type": "markdown",
      "source": [
        "## Considerações finais:\n",
        "\n",
        "**NumPy** é um pacote criado para manipular grandes matrizes multidimensionais em Python, usando operações otimizadas.\n",
        "\n",
        "**Desvantagem do NumPy**:\n",
        "\n",
        "*   Não é adequado para trabalhar com dados **não numéricos**.\n",
        "*   **NÃO É POSSÍVEL** armazenar colunas de **diferentes tipos de dados** (inteiros, floats, strings, ...) em um array NumPy. O array do NumPy é homogêneo e só pode conter um único tipo de dado em todo o array.\n"
      ],
      "metadata": {
        "id": "LvFCBC-ietR2"
      }
    },
    {
      "cell_type": "code",
      "source": [
        "a = np.array([1, \"texto\", 3.4])\n",
        "print(a)\n",
        "print(type(a[0]))\n",
        "print(type(a[1]))\n",
        "print(type(a[2]))"
      ],
      "metadata": {
        "id": "5MOCeOqhgXre",
        "colab": {
          "base_uri": "https://localhost:8080/"
        },
        "outputId": "edfb738a-07d0-4336-9f4d-28bb230a8941"
      },
      "execution_count": null,
      "outputs": [
        {
          "output_type": "stream",
          "name": "stdout",
          "text": [
            "['1' 'texto' '3.4']\n",
            "<class 'numpy.str_'>\n",
            "<class 'numpy.str_'>\n",
            "<class 'numpy.str_'>\n"
          ]
        }
      ]
    }
  ]
}